{
 "cells": [
  {
   "cell_type": "code",
   "execution_count": 2,
   "id": "a5518606",
   "metadata": {},
   "outputs": [
    {
     "name": "stdout",
     "output_type": "stream",
     "text": [
      "Enter the string: cargo abc and water purifier\n",
      "Occurrences of 'abc' found at indices: [6]\n"
     ]
    }
   ],
   "source": [
    "import re\n",
    "\n",
    "def find_occurrences(s, substring):\n",
    "    pattern = re.escape(substring)\n",
    "    regex = re.compile(pattern)\n",
    "    \n",
    "    matches = [match.start() for match in regex.finditer(s)]\n",
    "    return matches\n",
    "\n",
    "input_string = input(\"Enter the string: \")\n",
    "substring = \"abc\"\n",
    "\n",
    "positions = find_occurrences(input_string, substring)\n",
    "\n",
    "if positions:\n",
    "    print(f\"Occurrences of '{substring}' found at indices: {positions}\")\n",
    "else:\n",
    "    print(f\"Substring '{substring}' not found in the main string.\")\n"
   ]
  }
 ],
 "metadata": {
  "kernelspec": {
   "display_name": "Python 3",
   "language": "python",
   "name": "python3"
  },
  "language_info": {
   "codemirror_mode": {
    "name": "ipython",
    "version": 3
   },
   "file_extension": ".py",
   "mimetype": "text/x-python",
   "name": "python",
   "nbconvert_exporter": "python",
   "pygments_lexer": "ipython3",
   "version": "3.6.9"
  }
 },
 "nbformat": 4,
 "nbformat_minor": 5
}

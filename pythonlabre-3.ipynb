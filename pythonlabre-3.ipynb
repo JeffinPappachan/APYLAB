import re

def replace_word(original_string, old_word, new_word):
    # Use re.sub() to replace all instances of old_word with new_word
    modified_string = re.sub(r'\b{}\b'.format(re.escape(old_word)), new_word, original_string)
    return modified_string

# Get input from the user
input_string = input("Enter the original string: ")
old_word = input("Enter the word to replace: ")
new_word = input("Enter the new word: ")

# Replace words
result = replace_word(input_string, old_word, new_word)

# Print the result
print("\nOriginal String:", input_string)
print("Modified String:", result)

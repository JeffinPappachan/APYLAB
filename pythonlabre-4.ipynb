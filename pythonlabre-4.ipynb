{
  "nbformat": 4,
  "nbformat_minor": 0,
  "metadata": {
    "colab": {
      "provenance": []
    },
    "kernelspec": {
      "name": "python3",
      "display_name": "Python 3"
    },
    "language_info": {
      "name": "python"
    }
  },
  "cells": [
    {
      "cell_type": "code",
      "execution_count": 4,
      "metadata": {
        "colab": {
          "base_uri": "https://localhost:8080/"
        },
        "id": "29irRU8iLrYI",
        "outputId": "387f8fd4-964b-4c41-fce9-d620d8b0490e"
      },
      "outputs": [
        {
          "output_type": "stream",
          "name": "stdout",
          "text": [
            "Enter the string to split: I am the truth, and the light of the world.\n",
            "Enter the delimiter (e.g., ',', ';'): ,\n",
            "\n",
            "Original String: I am the truth, and the light of the world.\n",
            "Split Parts: ['I am the truth', ' and the light of the world.']\n"
          ]
        }
      ],
      "source": [
        "import re\n",
        "\n",
        "def split_string(input_string, delimiter):\n",
        "    # Use re.split() to split the input_string based on the delimiter\n",
        "    # Create a regular expression pattern for the delimiter\n",
        "    delimiter_pattern = re.escape(delimiter)\n",
        "    parts = re.split(delimiter_pattern, input_string)\n",
        "    return parts\n",
        "\n",
        "# Get input from the user\n",
        "input_string = input(\"Enter the string to split: \")\n",
        "delimiter = input(\"Enter the delimiter (e.g., ',', ';'): \")\n",
        "\n",
        "# Split the string using the delimiter\n",
        "parts = split_string(input_string, delimiter)\n",
        "\n",
        "# Print the result\n",
        "print(\"\\nOriginal String:\", input_string)\n",
        "print(\"Split Parts:\", parts)\n",
        "\n"
      ]
    }
  ]
}
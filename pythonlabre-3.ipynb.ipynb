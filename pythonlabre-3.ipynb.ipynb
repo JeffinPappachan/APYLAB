{
  "nbformat": 4,
  "nbformat_minor": 0,
  "metadata": {
    "colab": {
      "provenance": []
    },
    "kernelspec": {
      "name": "python3",
      "display_name": "Python 3"
    },
    "language_info": {
      "name": "python"
    }
  },
  "cells": [
    {
      "cell_type": "code",
      "execution_count": 2,
      "metadata": {
        "colab": {
          "base_uri": "https://localhost:8080/"
        },
        "id": "29irRU8iLrYI",
        "outputId": "13534bc1-837f-4a62-ff5e-37601ca7869d"
      },
      "outputs": [
        {
          "output_type": "stream",
          "name": "stdout",
          "text": [
            "Enter the original string: The Man  is eating a apple.\n",
            "Enter the word to replace: apple\n",
            "Enter the new word: orange\n",
            "\n",
            "Original String: The Man  is eating a apple.\n",
            "Modified String: The Man  is eating a orange.\n"
          ]
        }
      ],
      "source": [
        "import re\n",
        "\n",
        "def replace_word(original_string, old_word, new_word):\n",
        "    # Use re.sub() to replace all instances of old_word with new_word\n",
        "    modified_string = re.sub(r'\\b{}\\b'.format(re.escape(old_word)), new_word, original_string)\n",
        "    return modified_string\n",
        "\n",
        "# Get input from the user\n",
        "input_string = input(\"Enter the original string: \")\n",
        "old_word = input(\"Enter the word to replace: \")\n",
        "new_word = input(\"Enter the new word: \")\n",
        "\n",
        "# Replace words\n",
        "result = replace_word(input_string, old_word, new_word)\n",
        "\n",
        "# Print the result\n",
        "print(\"\\nOriginal String:\", input_string)\n",
        "print(\"Modified String:\", result)\n"
      ]
    }
  ]
}
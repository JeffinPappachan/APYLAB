{
 "cells": [
  {
   "cell_type": "code",
   "execution_count": 4,
   "id": "2f43aee8",
   "metadata": {},
   "outputs": [
    {
     "name": "stdout",
     "output_type": "stream",
     "text": [
      "Enter the stringHello Jeffin\n",
      "The string starts with 'Hello'.\n"
     ]
    }
   ],
   "source": [
    "import re\n",
    "\n",
    "def   starts_with_patterns(s,pattern):\n",
    "    regex = re.compile(f'^{re.escape(pattern)}')\n",
    "    return  bool(regex.match(s))\n",
    "\n",
    "\n",
    "text = input(\"Enter the string\")\n",
    "pattern = \"Hello\"\n",
    "\n",
    "\n",
    "if starts_with_patterns(text, pattern):\n",
    "    print(f\"The string starts with '{pattern}'.\")\n",
    "else:\n",
    "    print(f\"The string does not start with '{pattern}'.\")\n"
   ]
  }
 ],
 "metadata": {
  "kernelspec": {
   "display_name": "Python 3",
   "language": "python",
   "name": "python3"
  },
  "language_info": {
   "codemirror_mode": {
    "name": "ipython",
    "version": 3
   },
   "file_extension": ".py",
   "mimetype": "text/x-python",
   "name": "python",
   "nbconvert_exporter": "python",
   "pygments_lexer": "ipython3",
   "version": "3.6.9"
  }
 },
 "nbformat": 4,
 "nbformat_minor": 5
}
